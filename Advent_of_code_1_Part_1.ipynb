{
 "cells": [
  {
   "cell_type": "code",
   "execution_count": 3,
   "id": "d6b3e4b4",
   "metadata": {},
   "outputs": [
    {
     "name": "stdout",
     "output_type": "stream",
     "text": [
      "The final sum is: 54159\n"
     ]
    }
   ],
   "source": [
    "# Specify the file path\n",
    "file_path = r'write your own path here :)'\n",
    "\n",
    "# Open the file in read mode\n",
    "with open(file_path, 'r') as file:\n",
    "    # Read the contents of the file\n",
    "    file_contents = file.read()\n",
    "\n",
    "# Split the contents into lines\n",
    "file_lines = file_contents.splitlines()\n",
    "\n",
    "#Define the sum:\n",
    "final_sum = 0\n",
    "\n",
    "# Go through each line\n",
    "for line in file_lines:\n",
    "    \n",
    "    # Combine together all the digits only \n",
    "    digits = ''.join(filter(str.isdigit, line))\n",
    "    digit_list = [int(digit) for digit in digits]\n",
    "    \n",
    "    #Compute the added number\n",
    "    digits = digit_list[0]*10 + digit_list[-1]\n",
    "    final_sum += digits\n",
    "\n",
    "print(\"The final sum is:\", final_sum)"
   ]
  },
  {
   "cell_type": "code",
   "execution_count": null,
   "id": "bc51f900",
   "metadata": {},
   "outputs": [],
   "source": []
  }
 ],
 "metadata": {
  "kernelspec": {
   "display_name": "Python 3 (ipykernel)",
   "language": "python",
   "name": "python3"
  },
  "language_info": {
   "codemirror_mode": {
    "name": "ipython",
    "version": 3
   },
   "file_extension": ".py",
   "mimetype": "text/x-python",
   "name": "python",
   "nbconvert_exporter": "python",
   "pygments_lexer": "ipython3",
   "version": "3.11.3"
  }
 },
 "nbformat": 4,
 "nbformat_minor": 5
}
